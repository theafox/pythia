{
 "cells": [
  {
   "cell_type": "code",
   "execution_count": 1,
   "id": "3c2b5e3b-1987-4e5e-8301-115a8695a8c2",
   "metadata": {},
   "outputs": [],
   "source": [
    "import numpy as np\n",
    "from scipy import stats\n",
    "import torch"
   ]
  },
  {
   "cell_type": "markdown",
   "id": "c61694b6-bc51-421d-8f84-aa263d790c8f",
   "metadata": {},
   "source": [
    "# Testing of the generated models."
   ]
  },
  {
   "cell_type": "markdown",
   "id": "6a636aed-6ca8-4e6f-b650-42d5b8f9ef28",
   "metadata": {},
   "source": [
    "## Generating the test-data."
   ]
  },
  {
   "cell_type": "markdown",
   "id": "b4b9ff41-28e0-4564-a979-cf74f168155a",
   "metadata": {},
   "source": [
    "### `autoregressive_moving_average_model`"
   ]
  },
  {
   "cell_type": "code",
   "execution_count": 2,
   "id": "2960aa5c-c8d6-4f48-ab33-d2c3ce626a42",
   "metadata": {},
   "outputs": [],
   "source": [
    "data_length = 20\n",
    "mu = 25\n",
    "phi = 3\n",
    "theta = 1.5\n",
    "sigma = 3"
   ]
  },
  {
   "cell_type": "code",
   "execution_count": 3,
   "id": "584a7c64-c1f3-4130-8cfb-fc81d5f89196",
   "metadata": {},
   "outputs": [
    {
     "data": {
      "text/plain": [
       "tensor([18.8203, 12.0008, 14.8937, 21.2045, 19.3378,  5.1136, 14.7504,  9.2432,\n",
       "         9.4839, 12.0530, 10.7202, 17.2714, 13.8052, 10.6084, 12.2193, 11.6684,\n",
       "        17.4704,  8.9742, 11.5653,  5.7295], dtype=torch.float64)"
      ]
     },
     "execution_count": 3,
     "metadata": {},
     "output_type": "execute_result"
    }
   ],
   "source": [
    "np.random.seed(0)\n",
    "err = torch.full((data_length,), 0, dtype=float)\n",
    "for t in range(0, data_length, 1):\n",
    "    err[t] = stats.norm.rvs(10, 5)\n",
    "err"
   ]
  },
  {
   "cell_type": "code",
   "execution_count": 4,
   "id": "de4cdd17-279b-46b4-8999-c61bf57cab4b",
   "metadata": {},
   "outputs": [
    {
     "data": {
      "text/plain": [
       "tensor([1.1882e+02, 4.2169e+02, 1.3230e+03, 4.0375e+03, 1.2189e+04, 3.6625e+04,\n",
       "        1.0992e+05, 3.2982e+05, 9.8951e+05, 2.9686e+06, 8.9058e+06, 2.6717e+07,\n",
       "        8.0152e+07, 2.4046e+08, 7.2137e+08, 2.1641e+09, 6.4924e+09, 1.9477e+10,\n",
       "        5.8431e+10, 1.7529e+11], dtype=torch.float64)"
      ]
     },
     "execution_count": 4,
     "metadata": {},
     "output_type": "execute_result"
    }
   ],
   "source": [
    "np.random.seed(0)\n",
    "y = torch.full((data_length,), 0, dtype=float)\n",
    "nu = torch.full((data_length,), 0, dtype=float)\n",
    "nu[0] = mu + phi * mu\n",
    "y[0] = err[0] + nu[0]\n",
    "for t in range(1, data_length):\n",
    "    nu[t] = mu + phi * y[t - 1] + theta * err[t - 1]\n",
    "    y[t] = err[t] + nu[t]\n",
    "y"
   ]
  },
  {
   "cell_type": "markdown",
   "id": "a3158c23-0daf-4960-a5d6-bf92bb2fecac",
   "metadata": {},
   "source": [
    "### `autoregressive_order_K_model`"
   ]
  },
  {
   "cell_type": "code",
   "execution_count": 5,
   "id": "141d0ebf-7980-462e-bea8-9b0cad650468",
   "metadata": {},
   "outputs": [],
   "source": [
    "K = 5\n",
    "alpha = 14\n",
    "beta = [-6.45,6.93,-2.48,-1.99,12.19]\n",
    "sigma = 0.5"
   ]
  },
  {
   "cell_type": "code",
   "execution_count": 6,
   "id": "feefa53b-e214-4fd7-b020-53bc7538f61e",
   "metadata": {},
   "outputs": [
    {
     "data": {
      "text/plain": [
       "tensor([0.0000e+00, 0.0000e+00, 0.0000e+00, 0.0000e+00, 0.0000e+00, 1.4882e+01,\n",
       "        1.1733e+02, 7.9070e+02, 5.1740e+03, 3.3858e+04, 2.2168e+05, 1.4516e+06,\n",
       "        9.5055e+06, 6.2245e+07, 4.0760e+08, 2.6691e+09, 1.7478e+10, 1.1445e+11,\n",
       "        7.4944e+11, 4.9076e+12])"
      ]
     },
     "execution_count": 6,
     "metadata": {},
     "output_type": "execute_result"
    }
   ],
   "source": [
    "np.random.seed(0)\n",
    "y = torch.zeros(20)\n",
    "for t in range(K, len(y)):\n",
    "    mu = alpha\n",
    "    for k in range(0, K):\n",
    "        mu = mu + beta[k] * y[t-k]\n",
    "    y[t] = stats.norm.rvs(mu, sigma)\n",
    "y"
   ]
  },
  {
   "cell_type": "markdown",
   "id": "3a0e657b-0a3e-4916-a699-8a6f6e976e14",
   "metadata": {},
   "source": [
    "### `bayes_hidden_markov_model`"
   ]
  },
  {
   "cell_type": "code",
   "execution_count": 7,
   "id": "ecea2a35-62cd-4c82-842e-7c32fd5d008f",
   "metadata": {},
   "outputs": [],
   "source": [
    "K = 10\n",
    "s = [0] * K\n",
    "m = [0] * K\n",
    "T = [[0] * K] * K"
   ]
  },
  {
   "cell_type": "code",
   "execution_count": 8,
   "id": "7c70ebfd-8d6b-44f2-b831-122fe9e61e22",
   "metadata": {},
   "outputs": [],
   "source": [
    "np.random.seed(0)\n",
    "for i in range(0, K):\n",
    "    T[i] = stats.dirichlet.rvs([1 / K] * K)\n",
    "    m[i] = stats.norm.rvs(i + 1, 0.5).item()"
   ]
  },
  {
   "cell_type": "code",
   "execution_count": 9,
   "id": "c35da5ae-2370-4a30-97c3-22baf599d312",
   "metadata": {},
   "outputs": [
    {
     "data": {
      "text/plain": [
       "([5, 7, 9, 7, 6, 1, 6, 1, 5, 4],\n",
       " [6.500169164315597,\n",
       "  7.936579509333255,\n",
       "  9.317801661471384,\n",
       "  8.077189678856062,\n",
       "  6.647212557828355,\n",
       "  1.8866898228924214,\n",
       "  6.6439487634103465,\n",
       "  2.0341088048097773,\n",
       "  6.441242417801613,\n",
       "  5.201439088726868])"
      ]
     },
     "execution_count": 9,
     "metadata": {},
     "output_type": "execute_result"
    }
   ],
   "source": [
    "np.random.seed(0)\n",
    "y = [0] * K\n",
    "s[0] = stats.randint.rvs(0, K)\n",
    "y[0] = stats.norm.rvs(m[s[0]], 0.1).item()\n",
    "for i in range(1, K):\n",
    "    s[i] = stats.randint.rvs(0, K)\n",
    "    y[i] = stats.norm.rvs(m[s[i]], 0.1).item()\n",
    "s, y"
   ]
  },
  {
   "cell_type": "markdown",
   "id": "ff045b3c-0a47-400f-ba01-df3dcaec58ff",
   "metadata": {},
   "source": [
    "### `burglary_model`"
   ]
  },
  {
   "cell_type": "code",
   "execution_count": 10,
   "id": "5bddb712-16de-4ff3-b140-fc7e7383b076",
   "metadata": {},
   "outputs": [],
   "source": [
    "earthquake_probability = 0.02\n",
    "burglary_probability = 0.01\n",
    "phone_working_earthquake_probability = 0.8\n",
    "phone_working_probability = 0.9\n",
    "mary_wakes_earthquake_probability = 0.7\n",
    "mary_wakes_burglary_probability = 0.8\n",
    "mary_wakes_probability = 0.1"
   ]
  },
  {
   "cell_type": "code",
   "execution_count": 11,
   "id": "7059efe1-010e-4864-90ca-25b6c8d6c2f5",
   "metadata": {},
   "outputs": [
    {
     "data": {
      "text/plain": [
       "False"
      ]
     },
     "execution_count": 11,
     "metadata": {},
     "output_type": "execute_result"
    }
   ],
   "source": [
    "np.random.seed(0)\n",
    "earthquake = stats.bernoulli.rvs(earthquake_probability)\n",
    "burglary = stats.bernoulli.rvs(burglary_probability)\n",
    "if earthquake == 1:\n",
    "    phone_working = stats.bernoulli.rvs(phone_working_earthquake_probability)\n",
    "else:\n",
    "    phone_working = stats.bernoulli.rvs(phone_working_probability)\n",
    "if earthquake == 1:\n",
    "    mary_wakes = stats.bernoulli.rvs(mary_wakes_earthquake_probability)\n",
    "elif burglary == 1:\n",
    "    mary_wakes = stats.bernoulli.rvs(mary_wakes_burglary_probability)\n",
    "else:\n",
    "    mary_wakes = stats.bernoulli.rvs(mary_wakes_probability)\n",
    "called = mary_wakes == 1 and phone_working == 1\n",
    "called"
   ]
  },
  {
   "cell_type": "markdown",
   "id": "ce5859e4-8c98-4013-9998-96f3a7a62805",
   "metadata": {},
   "source": [
    "### `cointoss_model` and `cointoss_with_factor_model`"
   ]
  },
  {
   "cell_type": "code",
   "execution_count": 12,
   "id": "8e8450e9-01e7-4580-9529-c213093e0b2b",
   "metadata": {},
   "outputs": [],
   "source": [
    "p = 0.1"
   ]
  },
  {
   "cell_type": "code",
   "execution_count": 13,
   "id": "ac104b3f-aa63-4aa0-a055-73b6909d845f",
   "metadata": {},
   "outputs": [
    {
     "data": {
      "text/plain": [
       "[0, 0, 0, 0, 0, 0, 0, 0, 1, 0, 0, 0, 0, 1, 0, 0, 0, 0, 0, 0]"
      ]
     },
     "execution_count": 13,
     "metadata": {},
     "output_type": "execute_result"
    }
   ],
   "source": [
    "np.random.seed(0)\n",
    "tosses = [stats.bernoulli.rvs(p) for _ in range(20)]\n",
    "tosses"
   ]
  },
  {
   "cell_type": "markdown",
   "id": "5a51ae07-4f2c-4d45-b445-b1c0c2b72894",
   "metadata": {},
   "source": [
    "### `gaussian_mixture_model`"
   ]
  },
  {
   "cell_type": "code",
   "execution_count": 14,
   "id": "897e49ae-16bf-4729-bd4c-ed7eb2391e85",
   "metadata": {},
   "outputs": [],
   "source": [
    "theta = 0.3\n",
    "mu = [-2.4,1.2]\n",
    "z = [0, 1, 0, 1, 1, 1, 0, 0, 1, 1, 0, 0, 1, 1, 1, 1, 1, 1, 0, 0]"
   ]
  },
  {
   "cell_type": "code",
   "execution_count": 15,
   "id": "dd9dc6e1-0163-4e07-81ad-e1fb891193f2",
   "metadata": {},
   "outputs": [
    {
     "data": {
      "text/plain": [
       "[15.24052345967664,\n",
       " 5.201572083672233,\n",
       " 7.387379841057392,\n",
       " 23.60893199201458,\n",
       " 19.875579901499673,\n",
       " -8.57277879876411,\n",
       " 7.100884175255894,\n",
       " -3.913572082976979,\n",
       " 0.16781148206442142,\n",
       " 5.305985019383724,\n",
       " -0.9595642883912201,\n",
       " 12.142735069629751,\n",
       " 8.810377251469934,\n",
       " 2.416750164928284,\n",
       " 5.638632327454257,\n",
       " 4.536743273742668,\n",
       " 16.14079073157606,\n",
       " -0.8515826376580089,\n",
       " 0.7306770165090137,\n",
       " -10.940957393017248]"
      ]
     },
     "execution_count": 15,
     "metadata": {},
     "output_type": "execute_result"
    }
   ],
   "source": [
    "np.random.seed(0)\n",
    "points = [stats.norm.rvs(mu[z[i]], 10).item() for i in range(len(z))]\n",
    "points"
   ]
  },
  {
   "cell_type": "markdown",
   "id": "5bae2fce-f5c9-4968-9ab5-b0af94d728cd",
   "metadata": {},
   "source": [
    "### `linear_regression_model`"
   ]
  },
  {
   "cell_type": "code",
   "execution_count": 16,
   "id": "2da91c3e-93df-4576-beab-a8be7d9242fe",
   "metadata": {},
   "outputs": [],
   "source": [
    "slope = 0.5\n",
    "intercept = 1"
   ]
  },
  {
   "cell_type": "code",
   "execution_count": 17,
   "id": "40248385-d2fa-44f3-a4c3-719ff51a0bcc",
   "metadata": {},
   "outputs": [
    {
     "data": {
      "text/plain": [
       "(tensor([ 1,  2,  3,  4,  5,  6,  7,  8,  9, 10]),\n",
       " tensor([1.8528, 2.0800, 2.6957, 3.4482, 3.8735, 3.8045, 4.6900, 4.9697, 5.4794,\n",
       "         6.0821], dtype=torch.float64))"
      ]
     },
     "execution_count": 17,
     "metadata": {},
     "output_type": "execute_result"
    }
   ],
   "source": [
    "np.random.seed(0)\n",
    "xs = torch.tensor([i+1 for i in range(10)])\n",
    "ys = torch.tensor([stats.norm.rvs(slope * x + intercept, 0.2) for x in xs])\n",
    "xs, ys"
   ]
  },
  {
   "cell_type": "markdown",
   "id": "3100a95e-bb7e-43e1-a970-ee9e5256add6",
   "metadata": {},
   "source": [
    "### `number_of_heads_model`"
   ]
  },
  {
   "cell_type": "code",
   "execution_count": 18,
   "id": "194a0148-1e4c-4e61-bde6-98b43c335fe8",
   "metadata": {},
   "outputs": [],
   "source": [
    "p = 0.01"
   ]
  },
  {
   "cell_type": "code",
   "execution_count": 19,
   "id": "b4a3e8a5-9d32-412e-a428-473fc01a53de",
   "metadata": {},
   "outputs": [
    {
     "data": {
      "text/plain": [
       "149"
      ]
     },
     "execution_count": 19,
     "metadata": {},
     "output_type": "execute_result"
    }
   ],
   "source": [
    "np.random.seed(0)\n",
    "count = 0\n",
    "while True:\n",
    "    cointoss = stats.bernoulli.rvs(p)\n",
    "    if cointoss == 1:\n",
    "        break\n",
    "    count += 1\n",
    "count"
   ]
  },
  {
   "cell_type": "markdown",
   "id": "7a401ed0-b13e-4ca7-a33e-06567966d09f",
   "metadata": {},
   "source": [
    "### `rate_5_model`"
   ]
  },
  {
   "cell_type": "code",
   "execution_count": 20,
   "id": "2c646634-605e-4d02-8846-09b1897abc70",
   "metadata": {},
   "outputs": [],
   "source": [
    "n1 = 50\n",
    "n2 = 75\n",
    "theta = 0.6"
   ]
  },
  {
   "cell_type": "code",
   "execution_count": 21,
   "id": "99689608-4d97-4496-a92e-0a88c6afd4bd",
   "metadata": {},
   "outputs": [
    {
     "data": {
      "text/plain": [
       "(30, 43)"
      ]
     },
     "execution_count": 21,
     "metadata": {},
     "output_type": "execute_result"
    }
   ],
   "source": [
    "np.random.seed(0)\n",
    "k1 = stats.binom.rvs(n1, theta)\n",
    "k2 = stats.binom.rvs(n2, theta)\n",
    "k1, k2"
   ]
  }
 ],
 "metadata": {
  "kernelspec": {
   "display_name": "Python 3 (ipykernel)",
   "language": "python",
   "name": "python3"
  },
  "language_info": {
   "codemirror_mode": {
    "name": "ipython",
    "version": 3
   },
   "file_extension": ".py",
   "mimetype": "text/x-python",
   "name": "python",
   "nbconvert_exporter": "python",
   "pygments_lexer": "ipython3",
   "version": "3.12.7"
  }
 },
 "nbformat": 4,
 "nbformat_minor": 5
}
